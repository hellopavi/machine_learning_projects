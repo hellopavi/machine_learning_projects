{
  "nbformat": 4,
  "nbformat_minor": 0,
  "metadata": {
    "colab": {
      "provenance": []
    },
    "kernelspec": {
      "name": "python3",
      "display_name": "Python 3"
    },
    "language_info": {
      "name": "python"
    }
  },
  "cells": [
    {
      "cell_type": "markdown",
      "source": [
        "#Digit Recognition Using Random Forest Classifier\n",
        "\n",
        " Introduction\n",
        "This project demonstrates the use of a Random Forest Classifier to recognize handwritten digits. The dataset used contains images of digits, and the goal is to correctly classify each image into one of the 10 digit classes (0-9). Random Forest, an ensemble learning method, is employed to enhance the model's accuracy."
      ],
      "metadata": {
        "id": "DxvGXg4AFhk0"
      }
    },
    {
      "cell_type": "markdown",
      "source": [
        "##1. Loading the Dataset\n",
        "We start by importing the necessary libraries and loading the dataset, which is stored in a CSV file. The dataset's shape and the first row are displayed to get an initial understanding of the data."
      ],
      "metadata": {
        "id": "QlDyuvFcGFcf"
      }
    },
    {
      "cell_type": "code",
      "execution_count": 17,
      "metadata": {
        "id": "Um1v8Dpm35pp",
        "colab": {
          "base_uri": "https://localhost:8080/"
        },
        "outputId": "aef99f53-d123-4e24-a220-219650cf5994"
      },
      "outputs": [
        {
          "output_type": "stream",
          "name": "stdout",
          "text": [
            "(42000, 255)\n",
            "   label  pixel0  pixel1  pixel2  pixel3  pixel4  pixel5  pixel6  pixel7  \\\n",
            "0      1       0       0       0       0       0       0       0       0   \n",
            "\n",
            "   pixel8  ...  pixel244  pixel245  pixel246  pixel247  pixel248  pixel249  \\\n",
            "0       0  ...        77         0         0         0         0         0   \n",
            "\n",
            "   pixel250  pixel251  pixel252  pixel253  \n",
            "0         0         0         0         0  \n",
            "\n",
            "[1 rows x 255 columns]\n"
          ]
        }
      ],
      "source": [
        "# Importing necessary libraries\n",
        "import pandas as pd\n",
        "\n",
        "# Loading the dataset\n",
        "dataset = pd.read_csv('trainset.csv')\n",
        "\n",
        "# Display the shape of the dataset and the first row\n",
        "print(dataset.shape)\n",
        "print(dataset.head(1))"
      ]
    },
    {
      "cell_type": "markdown",
      "source": [
        "##2. Data Preprocessing\n",
        "The dataset is divided into features (`x`) and the target variable (`y`). In this case, `x` represents the pixel values of the images, and `y` represents the corresponding digit labels."
      ],
      "metadata": {
        "id": "02lMX9l5GnCC"
      }
    },
    {
      "cell_type": "code",
      "source": [
        "# Splitting the dataset into features (X) and target variable (y)\n",
        "x = dataset.iloc[:, 1:].values\n",
        "y = dataset.iloc[:, 0].values"
      ],
      "metadata": {
        "id": "OqXa1nxG4yQb"
      },
      "execution_count": 7,
      "outputs": []
    },
    {
      "cell_type": "markdown",
      "source": [
        "##3. Splitting the Data\n",
        "To evaluate the model's performance, we split the data into training and testing sets. We use 75% of the data for training and reserve 25% for testing."
      ],
      "metadata": {
        "id": "zG6GfqewG61M"
      }
    },
    {
      "cell_type": "code",
      "source": [
        "# Splitting the data into training and testing sets\n",
        "from sklearn.model_selection import train_test_split\n",
        "x_train, x_test, y_train, y_test = train_test_split(x, y, test_size=0.25 , random_state=0)\n",
        "\n",
        "# Displaying the shapes of the training and testing sets\n",
        "print(x_train.shape)\n",
        "print(y_train.shape)\n",
        "print(x_test.shape)\n",
        "print(y_test.shape)"
      ],
      "metadata": {
        "colab": {
          "base_uri": "https://localhost:8080/"
        },
        "id": "yBxpLgfq4y2b",
        "outputId": "95358b86-3f54-4777-a066-7dad7b8e716b"
      },
      "execution_count": 8,
      "outputs": [
        {
          "output_type": "stream",
          "name": "stdout",
          "text": [
            "(31500, 254)\n",
            "(31500,)\n",
            "(10500, 254)\n",
            "(10500,)\n"
          ]
        }
      ]
    },
    {
      "cell_type": "markdown",
      "source": [
        "##4. Model Training\n",
        "We import the `RandomForestClassifier` from the `sklearn.ensemble` module and fit the model on the training data. Random Forest is chosen for its ability to handle complex datasets and its effectiveness in preventing overfitting."
      ],
      "metadata": {
        "id": "0kAFVvxYHEn1"
      }
    },
    {
      "cell_type": "code",
      "source": [
        "# Importing and fitting the RandomForestClassifier\n",
        "from sklearn.ensemble import RandomForestClassifier\n",
        "classifier = RandomForestClassifier()\n",
        "classifier.fit(x_train, y_train)"
      ],
      "metadata": {
        "colab": {
          "base_uri": "https://localhost:8080/",
          "height": 75
        },
        "id": "T-FCHOC24yv8",
        "outputId": "07b1d586-9959-455a-fe42-dcd0ccafd41c"
      },
      "execution_count": 9,
      "outputs": [
        {
          "output_type": "execute_result",
          "data": {
            "text/plain": [
              "RandomForestClassifier()"
            ],
            "text/html": [
              "<style>#sk-container-id-1 {color: black;}#sk-container-id-1 pre{padding: 0;}#sk-container-id-1 div.sk-toggleable {background-color: white;}#sk-container-id-1 label.sk-toggleable__label {cursor: pointer;display: block;width: 100%;margin-bottom: 0;padding: 0.3em;box-sizing: border-box;text-align: center;}#sk-container-id-1 label.sk-toggleable__label-arrow:before {content: \"▸\";float: left;margin-right: 0.25em;color: #696969;}#sk-container-id-1 label.sk-toggleable__label-arrow:hover:before {color: black;}#sk-container-id-1 div.sk-estimator:hover label.sk-toggleable__label-arrow:before {color: black;}#sk-container-id-1 div.sk-toggleable__content {max-height: 0;max-width: 0;overflow: hidden;text-align: left;background-color: #f0f8ff;}#sk-container-id-1 div.sk-toggleable__content pre {margin: 0.2em;color: black;border-radius: 0.25em;background-color: #f0f8ff;}#sk-container-id-1 input.sk-toggleable__control:checked~div.sk-toggleable__content {max-height: 200px;max-width: 100%;overflow: auto;}#sk-container-id-1 input.sk-toggleable__control:checked~label.sk-toggleable__label-arrow:before {content: \"▾\";}#sk-container-id-1 div.sk-estimator input.sk-toggleable__control:checked~label.sk-toggleable__label {background-color: #d4ebff;}#sk-container-id-1 div.sk-label input.sk-toggleable__control:checked~label.sk-toggleable__label {background-color: #d4ebff;}#sk-container-id-1 input.sk-hidden--visually {border: 0;clip: rect(1px 1px 1px 1px);clip: rect(1px, 1px, 1px, 1px);height: 1px;margin: -1px;overflow: hidden;padding: 0;position: absolute;width: 1px;}#sk-container-id-1 div.sk-estimator {font-family: monospace;background-color: #f0f8ff;border: 1px dotted black;border-radius: 0.25em;box-sizing: border-box;margin-bottom: 0.5em;}#sk-container-id-1 div.sk-estimator:hover {background-color: #d4ebff;}#sk-container-id-1 div.sk-parallel-item::after {content: \"\";width: 100%;border-bottom: 1px solid gray;flex-grow: 1;}#sk-container-id-1 div.sk-label:hover label.sk-toggleable__label {background-color: #d4ebff;}#sk-container-id-1 div.sk-serial::before {content: \"\";position: absolute;border-left: 1px solid gray;box-sizing: border-box;top: 0;bottom: 0;left: 50%;z-index: 0;}#sk-container-id-1 div.sk-serial {display: flex;flex-direction: column;align-items: center;background-color: white;padding-right: 0.2em;padding-left: 0.2em;position: relative;}#sk-container-id-1 div.sk-item {position: relative;z-index: 1;}#sk-container-id-1 div.sk-parallel {display: flex;align-items: stretch;justify-content: center;background-color: white;position: relative;}#sk-container-id-1 div.sk-item::before, #sk-container-id-1 div.sk-parallel-item::before {content: \"\";position: absolute;border-left: 1px solid gray;box-sizing: border-box;top: 0;bottom: 0;left: 50%;z-index: -1;}#sk-container-id-1 div.sk-parallel-item {display: flex;flex-direction: column;z-index: 1;position: relative;background-color: white;}#sk-container-id-1 div.sk-parallel-item:first-child::after {align-self: flex-end;width: 50%;}#sk-container-id-1 div.sk-parallel-item:last-child::after {align-self: flex-start;width: 50%;}#sk-container-id-1 div.sk-parallel-item:only-child::after {width: 0;}#sk-container-id-1 div.sk-dashed-wrapped {border: 1px dashed gray;margin: 0 0.4em 0.5em 0.4em;box-sizing: border-box;padding-bottom: 0.4em;background-color: white;}#sk-container-id-1 div.sk-label label {font-family: monospace;font-weight: bold;display: inline-block;line-height: 1.2em;}#sk-container-id-1 div.sk-label-container {text-align: center;}#sk-container-id-1 div.sk-container {/* jupyter's `normalize.less` sets `[hidden] { display: none; }` but bootstrap.min.css set `[hidden] { display: none !important; }` so we also need the `!important` here to be able to override the default hidden behavior on the sphinx rendered scikit-learn.org. See: https://github.com/scikit-learn/scikit-learn/issues/21755 */display: inline-block !important;position: relative;}#sk-container-id-1 div.sk-text-repr-fallback {display: none;}</style><div id=\"sk-container-id-1\" class=\"sk-top-container\"><div class=\"sk-text-repr-fallback\"><pre>RandomForestClassifier()</pre><b>In a Jupyter environment, please rerun this cell to show the HTML representation or trust the notebook. <br />On GitHub, the HTML representation is unable to render, please try loading this page with nbviewer.org.</b></div><div class=\"sk-container\" hidden><div class=\"sk-item\"><div class=\"sk-estimator sk-toggleable\"><input class=\"sk-toggleable__control sk-hidden--visually\" id=\"sk-estimator-id-1\" type=\"checkbox\" checked><label for=\"sk-estimator-id-1\" class=\"sk-toggleable__label sk-toggleable__label-arrow\">RandomForestClassifier</label><div class=\"sk-toggleable__content\"><pre>RandomForestClassifier()</pre></div></div></div></div></div>"
            ]
          },
          "metadata": {},
          "execution_count": 9
        }
      ]
    },
    {
      "cell_type": "markdown",
      "source": [
        "##5. Making Predictions\n",
        "With the trained model, we predict the digit labels for the test set. This will allow us to compare the predicted labels with the actual labels and assess the model's accuracy."
      ],
      "metadata": {
        "id": "eAHNcOGUHYY-"
      }
    },
    {
      "cell_type": "code",
      "source": [
        "# Predicting the test set results\n",
        "y_pred = classifier.predict(x_test)\n"
      ],
      "metadata": {
        "id": "AfB6LG08DBDE"
      },
      "execution_count": 11,
      "outputs": []
    },
    {
      "cell_type": "markdown",
      "source": [
        "##6. Model Evaluation\n",
        "To evaluate the model's performance, we randomly select five predictions and display them alongside their actual labels. This provides a quick visual check of how well the model is performing. Finally, the accuracy score is calculated, which indicates the percentage of correctly classified digits."
      ],
      "metadata": {
        "id": "6dQ5SX_rHY0O"
      }
    },
    {
      "cell_type": "code",
      "source": [
        "# Displaying 5 random predictions with their actual values\n",
        "from random import randint\n",
        "count = 0\n",
        "while count<5 :\n",
        "  index = randint(1, len(y_pred))\n",
        "  print(f'Actual : {y_test[index]} | Predicted : {y_pred[index]}')\n",
        "  count+=1\n",
        "\n"
      ],
      "metadata": {
        "colab": {
          "base_uri": "https://localhost:8080/"
        },
        "id": "PoOSsl4l9TL-",
        "outputId": "18fe1e7e-00f5-453d-faa2-0c7c383a585a"
      },
      "execution_count": 15,
      "outputs": [
        {
          "output_type": "stream",
          "name": "stdout",
          "text": [
            "Actual : 3 | Predicted : 3\n",
            "Actual : 3 | Predicted : 3\n",
            "Actual : 4 | Predicted : 4\n",
            "Actual : 8 | Predicted : 3\n",
            "Actual : 1 | Predicted : 1\n"
          ]
        }
      ]
    },
    {
      "cell_type": "markdown",
      "source": [
        "##7. Conclusion\n",
        "The Random Forest Classifier achieved an accuracy of 76% on this digit recognition task, which is a solid baseline performance. To further improve accuracy, additional steps such as hyperparameter tuning, feature engineering, and experimenting with different algorithms could be explored.\n",
        "\n"
      ],
      "metadata": {
        "id": "T7iyz540HySx"
      }
    },
    {
      "cell_type": "code",
      "source": [
        "# Calculating and printing the accuracy of the model\n",
        "from sklearn.metrics import accuracy_score\n",
        "accuracy = accuracy_score(y_test, y_pred)*100\n",
        "print(f'Accuracy : {accuracy.round()}')"
      ],
      "metadata": {
        "colab": {
          "base_uri": "https://localhost:8080/"
        },
        "id": "OYHiswi74ytV",
        "outputId": "6310eb0f-4f2f-4a75-8398-5230e69e5740"
      },
      "execution_count": 16,
      "outputs": [
        {
          "output_type": "stream",
          "name": "stdout",
          "text": [
            "Accuracy : 76.0\n"
          ]
        }
      ]
    },
    {
      "cell_type": "markdown",
      "source": [
        "###`Github: hellopavi`"
      ],
      "metadata": {
        "id": "KRB6CI4dIgbt"
      }
    }
  ]
}