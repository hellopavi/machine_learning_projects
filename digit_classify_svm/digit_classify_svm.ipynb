{
  "nbformat": 4,
  "nbformat_minor": 0,
  "metadata": {
    "colab": {
      "provenance": []
    },
    "kernelspec": {
      "name": "python3",
      "display_name": "Python 3"
    },
    "language_info": {
      "name": "python"
    }
  },
  "cells": [
    {
      "cell_type": "markdown",
      "source": [
        "# Digit Classification using Support Vector Machine (SVM)\n",
        "\n",
        "This project demonstrates the use of Support Vector Machines (SVM) for classifying handwritten digits from the popular `digits` dataset available in `scikit-learn`.\n",
        "\n",
        "## Project Overview\n",
        "\n",
        "The goal of this project is to predict which digit (0-9) is represented by a given image of a handwritten digit. We will use various SVM models with different kernels to classify the digits and compare their performance.\n",
        "\n",
        "## 1. Importing Libraries and Dataset\n",
        "\n"
      ],
      "metadata": {
        "id": "pBA0_Gj9lk-y"
      }
    },
    {
      "cell_type": "code",
      "execution_count": 2,
      "metadata": {
        "id": "qFs6ttM6u9DT"
      },
      "outputs": [],
      "source": [
        "import numpy as np\n",
        "from sklearn.datasets import load_digits"
      ]
    },
    {
      "cell_type": "markdown",
      "source": [
        "##2. Loading the Dataset\n",
        "We load the `digits` dataset from `scikit-learn`:"
      ],
      "metadata": {
        "id": "tqnLyM68n1x_"
      }
    },
    {
      "cell_type": "code",
      "source": [
        "dataset = load_digits()\n",
        "\n",
        "# Display the keys of the dataset to understand its structure\n",
        "dataset.keys()"
      ],
      "metadata": {
        "colab": {
          "base_uri": "https://localhost:8080/"
        },
        "id": "7J6se8ts06fe",
        "outputId": "fe168566-add1-40b9-accc-1aa9eb5a1f7f"
      },
      "execution_count": 46,
      "outputs": [
        {
          "output_type": "execute_result",
          "data": {
            "text/plain": [
              "dict_keys(['data', 'target', 'frame', 'feature_names', 'target_names', 'images', 'DESCR'])"
            ]
          },
          "metadata": {},
          "execution_count": 46
        }
      ]
    },
    {
      "cell_type": "markdown",
      "source": [
        "##3. Exploring the Dataset\n",
        "We can explore the dataset by printing the data, target, and shapes:"
      ],
      "metadata": {
        "id": "wE_KHGLqo1h5"
      }
    },
    {
      "cell_type": "code",
      "source": [
        "print(dataset.data , dataset.target , dataset.data.shape , dataset.images.shape , len(dataset.images))"
      ],
      "metadata": {
        "colab": {
          "base_uri": "https://localhost:8080/"
        },
        "id": "yn8-a8FM06dM",
        "outputId": "94b17a9e-5037-4d06-e6f1-ee972814b80f"
      },
      "execution_count": 47,
      "outputs": [
        {
          "output_type": "stream",
          "name": "stdout",
          "text": [
            "[[ 0.  0.  5. ...  0.  0.  0.]\n",
            " [ 0.  0.  0. ... 10.  0.  0.]\n",
            " [ 0.  0.  0. ... 16.  9.  0.]\n",
            " ...\n",
            " [ 0.  0.  1. ...  6.  0.  0.]\n",
            " [ 0.  0.  2. ... 12.  0.  0.]\n",
            " [ 0.  0. 10. ... 12.  1.  0.]] [0 1 2 ... 8 9 8] (1797, 64) (1797, 8, 8) 1797\n"
          ]
        }
      ]
    },
    {
      "cell_type": "markdown",
      "source": [
        "##4. Visualizing a Digit\n",
        "Let's visualize one of the digits from the dataset:\n",
        "\n"
      ],
      "metadata": {
        "id": "BCFJCtLzo2N9"
      }
    },
    {
      "cell_type": "code",
      "source": [
        "import matplotlib.pyplot as plt\n",
        "n = 333\n",
        "plt.gray()\n",
        "plt.matshow(dataset.images[n])\n",
        "plt.show()\n",
        "print(dataset.images[n])\n",
        "\n",
        "\n"
      ],
      "metadata": {
        "colab": {
          "base_uri": "https://localhost:8080/",
          "height": 593
        },
        "id": "X7SB1GZp06at",
        "outputId": "12fee82e-cb38-4c3f-e4c3-23444cf65322"
      },
      "execution_count": 49,
      "outputs": [
        {
          "output_type": "display_data",
          "data": {
            "text/plain": [
              "<Figure size 640x480 with 0 Axes>"
            ]
          },
          "metadata": {}
        },
        {
          "output_type": "display_data",
          "data": {
            "text/plain": [
              "<Figure size 480x480 with 1 Axes>"
            ],
            "image/png": "[encoded data removed]"
          },
          "metadata": {}
        },
        {
          "output_type": "stream",
          "name": "stdout",
          "text": [
            "[[ 0.  2. 15. 16. 15.  2.  0.  0.]\n",
            " [ 0.  8. 14.  8. 14.  8.  0.  0.]\n",
            " [ 0.  7.  5.  2. 16.  5.  0.  0.]\n",
            " [ 0.  0.  0. 12. 13.  0.  0.  0.]\n",
            " [ 0.  0.  8. 15.  1.  0.  0.  0.]\n",
            " [ 0.  1. 15.  7.  0.  0.  0.  0.]\n",
            " [ 0.  4. 16.  9.  8.  8.  2.  0.]\n",
            " [ 0.  2. 15. 16. 16. 16. 13.  0.]]\n"
          ]
        }
      ]
    },
    {
      "cell_type": "markdown",
      "source": [
        "##5. Preprocessing the Data\n",
        "We reshape the images into feature vectors for training the SVM model:"
      ],
      "metadata": {
        "id": "PCD4ig_gpeLZ"
      }
    },
    {
      "cell_type": "code",
      "source": [
        "x = dataset.images.reshape((len(dataset.images),-1))\n",
        "y = dataset.target\n",
        "\n",
        "# Split the dataset into training and testing sets (80% train, 20% test)\n",
        "from sklearn.model_selection import train_test_split\n",
        "x_train , x_test , y_train, y_test = train_test_split(x,y,test_size=0.20 , random_state=0)"
      ],
      "metadata": {
        "id": "S2E2CEzz06YV"
      },
      "execution_count": 6,
      "outputs": []
    },
    {
      "cell_type": "markdown",
      "source": [
        "##6. Training the SVM Model\n",
        "We train an SVM model with the default settings:"
      ],
      "metadata": {
        "id": "PDiEgdqcpeoI"
      }
    },
    {
      "cell_type": "code",
      "source": [
        "from sklearn import svm\n",
        "\n",
        "model = svm.SVC()\n",
        "model.fit(x_train , y_train)"
      ],
      "metadata": {
        "colab": {
          "base_uri": "https://localhost:8080/",
          "height": 75
        },
        "id": "C7DTUVQr06Vd",
        "outputId": "2fbb9be2-ed42-4228-f9c2-11740b4fe33a"
      },
      "execution_count": 7,
      "outputs": [
        {
          "output_type": "execute_result",
          "data": {
            "text/plain": [
              "SVC()"
            ],
            "text/html": [
              "<style>#sk-container-id-1 {color: black;}#sk-container-id-1 pre{padding: 0;}#sk-container-id-1 div.sk-toggleable {background-color: white;}#sk-container-id-1 label.sk-toggleable__label {cursor: pointer;display: block;width: 100%;margin-bottom: 0;padding: 0.3em;box-sizing: border-box;text-align: center;}#sk-container-id-1 label.sk-toggleable__label-arrow:before {content: \"▸\";float: left;margin-right: 0.25em;color: #696969;}#sk-container-id-1 label.sk-toggleable__label-arrow:hover:before {color: black;}#sk-container-id-1 div.sk-estimator:hover label.sk-toggleable__label-arrow:before {color: black;}#sk-container-id-1 div.sk-toggleable__content {max-height: 0;max-width: 0;overflow: hidden;text-align: left;background-color: #f0f8ff;}#sk-container-id-1 div.sk-toggleable__content pre {margin: 0.2em;color: black;border-radius: 0.25em;background-color: #f0f8ff;}#sk-container-id-1 input.sk-toggleable__control:checked~div.sk-toggleable__content {max-height: 200px;max-width: 100%;overflow: auto;}#sk-container-id-1 input.sk-toggleable__control:checked~label.sk-toggleable__label-arrow:before {content: \"▾\";}#sk-container-id-1 div.sk-estimator input.sk-toggleable__control:checked~label.sk-toggleable__label {background-color: #d4ebff;}#sk-container-id-1 div.sk-label input.sk-toggleable__control:checked~label.sk-toggleable__label {background-color: #d4ebff;}#sk-container-id-1 input.sk-hidden--visually {border: 0;clip: rect(1px 1px 1px 1px);clip: rect(1px, 1px, 1px, 1px);height: 1px;margin: -1px;overflow: hidden;padding: 0;position: absolute;width: 1px;}#sk-container-id-1 div.sk-estimator {font-family: monospace;background-color: #f0f8ff;border: 1px dotted black;border-radius: 0.25em;box-sizing: border-box;margin-bottom: 0.5em;}#sk-container-id-1 div.sk-estimator:hover {background-color: #d4ebff;}#sk-container-id-1 div.sk-parallel-item::after {content: \"\";width: 100%;border-bottom: 1px solid gray;flex-grow: 1;}#sk-container-id-1 div.sk-label:hover label.sk-toggleable__label {background-color: #d4ebff;}#sk-container-id-1 div.sk-serial::before {content: \"\";position: absolute;border-left: 1px solid gray;box-sizing: border-box;top: 0;bottom: 0;left: 50%;z-index: 0;}#sk-container-id-1 div.sk-serial {display: flex;flex-direction: column;align-items: center;background-color: white;padding-right: 0.2em;padding-left: 0.2em;position: relative;}#sk-container-id-1 div.sk-item {position: relative;z-index: 1;}#sk-container-id-1 div.sk-parallel {display: flex;align-items: stretch;justify-content: center;background-color: white;position: relative;}#sk-container-id-1 div.sk-item::before, #sk-container-id-1 div.sk-parallel-item::before {content: \"\";position: absolute;border-left: 1px solid gray;box-sizing: border-box;top: 0;bottom: 0;left: 50%;z-index: -1;}#sk-container-id-1 div.sk-parallel-item {display: flex;flex-direction: column;z-index: 1;position: relative;background-color: white;}#sk-container-id-1 div.sk-parallel-item:first-child::after {align-self: flex-end;width: 50%;}#sk-container-id-1 div.sk-parallel-item:last-child::after {align-self: flex-start;width: 50%;}#sk-container-id-1 div.sk-parallel-item:only-child::after {width: 0;}#sk-container-id-1 div.sk-dashed-wrapped {border: 1px dashed gray;margin: 0 0.4em 0.5em 0.4em;box-sizing: border-box;padding-bottom: 0.4em;background-color: white;}#sk-container-id-1 div.sk-label label {font-family: monospace;font-weight: bold;display: inline-block;line-height: 1.2em;}#sk-container-id-1 div.sk-label-container {text-align: center;}#sk-container-id-1 div.sk-container {/* jupyter's `normalize.less` sets `[hidden] { display: none; }` but bootstrap.min.css set `[hidden] { display: none !important; }` so we also need the `!important` here to be able to override the default hidden behavior on the sphinx rendered scikit-learn.org. See: https://github.com/scikit-learn/scikit-learn/issues/21755 */display: inline-block !important;position: relative;}#sk-container-id-1 div.sk-text-repr-fallback {display: none;}</style><div id=\"sk-container-id-1\" class=\"sk-top-container\"><div class=\"sk-text-repr-fallback\"><pre>SVC()</pre><b>In a Jupyter environment, please rerun this cell to show the HTML representation or trust the notebook. <br />On GitHub, the HTML representation is unable to render, please try loading this page with nbviewer.org.</b></div><div class=\"sk-container\" hidden><div class=\"sk-item\"><div class=\"sk-estimator sk-toggleable\"><input class=\"sk-toggleable__control sk-hidden--visually\" id=\"sk-estimator-id-1\" type=\"checkbox\" checked><label for=\"sk-estimator-id-1\" class=\"sk-toggleable__label sk-toggleable__label-arrow\">SVC</label><div class=\"sk-toggleable__content\"><pre>SVC()</pre></div></div></div></div></div>"
            ]
          },
          "metadata": {},
          "execution_count": 7
        }
      ]
    },
    {
      "cell_type": "markdown",
      "source": [
        "##7. Making Predictions and Evaluating the Model\n",
        "We make predictions on the test set and evaluate the model:"
      ],
      "metadata": {
        "id": "dqeRP6GqprRa"
      }
    },
    {
      "cell_type": "code",
      "source": [
        "y_pred = model.predict(x_test)\n",
        "\n",
        "# Concatenate the predicted and actual labels for comparison\n",
        "output1 = np.concatenate((y_pred.reshape(len(y_pred),1 ), y_test.reshape(len(y_test),1)),1)\n",
        "\n",
        "# Print the first 10 predictions vs actual labels\n",
        "print(output1[:10])"
      ],
      "metadata": {
        "colab": {
          "base_uri": "https://localhost:8080/",
          "height": 0
        },
        "id": "J9TZFy1106S-",
        "outputId": "caf56557-b0cf-498e-e5c5-0644121105cf"
      },
      "execution_count": 32,
      "outputs": [
        {
          "output_type": "stream",
          "name": "stdout",
          "text": [
            "[[2 2]\n",
            " [8 8]\n",
            " [2 2]\n",
            " [6 6]\n",
            " [6 6]\n",
            " [7 7]\n",
            " [1 1]\n",
            " [9 9]\n",
            " [8 8]\n",
            " [5 5]]\n"
          ]
        }
      ]
    },
    {
      "cell_type": "markdown",
      "source": [
        "We can also visualize one of the test images along with the predicted digit:"
      ],
      "metadata": {
        "id": "-ZZhpnd6p3zL"
      }
    },
    {
      "cell_type": "code",
      "source": [
        "# import random package to generate random number\n",
        "import random\n",
        "\n",
        " # Select a random index from the test set\n",
        "n = random.randint(0,len(x_test))\n",
        "\n",
        "# Visualize the randomly selected test image and display the predicted label\n",
        "plt.gray()\n",
        "plt.matshow(dataset.images[n])\n",
        "tit1 = model.predict(dataset.data[n].reshape(1,-1))\n",
        "plt.title(f'Predicted : {tit1}')\n",
        "plt.show()\n",
        "\n"
      ],
      "metadata": {
        "id": "D-cYMVFm06Ld",
        "colab": {
          "base_uri": "https://localhost:8080/",
          "height": 476
        },
        "outputId": "8486c3f3-bd87-4590-c421-1d3b6ed27ddb"
      },
      "execution_count": 33,
      "outputs": [
        {
          "output_type": "display_data",
          "data": {
            "text/plain": [
              "<Figure size 640x480 with 0 Axes>"
            ]
          },
          "metadata": {}
        },
        {
          "output_type": "display_data",
          "data": {
            "text/plain": [
              "<Figure size 480x480 with 1 Axes>"
            ],
            "image/png": "[encoded data removed]"
          },
          "metadata": {}
        }
      ]
    },
    {
      "cell_type": "markdown",
      "source": [
        "Finally, we calculate the accuracy of the model:"
      ],
      "metadata": {
        "id": "s7KcEhwup9xT"
      }
    },
    {
      "cell_type": "code",
      "source": [
        "from sklearn.metrics import accuracy_score\n",
        "\n",
        "# Calculate the accuracy of the model on the test set\n",
        "accuracy = accuracy_score(y_test , y_pred)*100\n",
        "print(f'Accuracy score : {accuracy:.2f}')"
      ],
      "metadata": {
        "colab": {
          "base_uri": "https://localhost:8080/",
          "height": 0
        },
        "id": "Oa0O_0em06QN",
        "outputId": "2b9c939b-ed89-4201-97ee-43dbd0c7b7e7"
      },
      "execution_count": 37,
      "outputs": [
        {
          "output_type": "stream",
          "name": "stdout",
          "text": [
            "Accuracy score : 99.17\n"
          ]
        }
      ]
    },
    {
      "cell_type": "markdown",
      "source": [
        "##8. Experimenting with Different SVM Kernels\n",
        "We experiment with different kernels to see how they affect the model's performance:"
      ],
      "metadata": {
        "id": "tF6r7-5Fp_cE"
      }
    },
    {
      "cell_type": "code",
      "source": [
        "# Experiment with different SVM kernels and parameters and RBF kernel with a specific gamma value\n",
        "model1 = svm.SVC(kernel='linear')\n",
        "model2 = svm.SVC(kernel='rbf')\n",
        "model3 = svm.SVC(gamma=0.001)\n",
        "model4 = svm.SVC(gamma=0.00050, C=0.1)\n",
        "\n",
        "# Train each model on the training data\n",
        "model1.fit(x_train , y_train)\n",
        "model2.fit(x_train , y_train)\n",
        "model3.fit(x_train , y_train)\n",
        "model4.fit(x_train , y_train)\n",
        "\n",
        "# Predict and print the accuracy score for each model on the test set\n",
        "y_pred1 = model1.predict(x_test)\n",
        "y_pred2 = model2.predict(x_test)\n",
        "y_pred3 = model3.predict(x_test)\n",
        "y_pred4 = model4.predict(x_test)\n",
        "\n",
        "print(f'Accuracy score : {accuracy_score(y_test , y_pred1)*100:.2f}')\n",
        "print(f'Accuracy score : {accuracy_score(y_test , y_pred2)*100:.2f}')\n",
        "print(f'Accuracy score : {accuracy_score(y_test , y_pred3)*100:.2f}')\n",
        "print(f'Accuracy score : {accuracy_score(y_test , y_pred4)*100:.2f}')"
      ],
      "metadata": {
        "id": "MUVpGlLD06Fl",
        "colab": {
          "base_uri": "https://localhost:8080/",
          "height": 0
        },
        "outputId": "20f03a9a-9fc7-42cd-8c9e-8f22819080c7"
      },
      "execution_count": 45,
      "outputs": [
        {
          "output_type": "stream",
          "name": "stdout",
          "text": [
            "Accuracy score : 97.78\n",
            "Accuracy score : 99.17\n",
            "Accuracy score : 99.17\n",
            "Accuracy score : 96.11\n"
          ]
        }
      ]
    }
  ]
}